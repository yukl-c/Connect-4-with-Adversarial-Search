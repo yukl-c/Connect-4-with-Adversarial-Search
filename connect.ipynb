import numpy as np
import random
import pygame
import sys
import math

blue = (0,0,255)
red = (255,0,0)
black = (0,0,0)
yellow = (255,255,0)

PLAYER = 0
AI = 1

EMPTY = 0difficult
PLAYER_PIECE = 1
AI_PIECE = 2

mode = range(0,3)
column = range(3,6)
print('Mode')
for i in mode:
    print(mode[i],'|', "connect", column[i])
print("Input the number corresponding to the game mode you want.")
game = int(input("Choice of game mode: "))

if game == 0:
    WINDOW_LENGTH = 3 
    column = range(5,11)
    row = [4,5,6,7,7,7]
    print('size | column*row')
    for i in range(0,6):
        print(i,'  |', column[i],"*", row[i])   
    print("Input the number corresponding to the size you want.")
    print("6   | n * n")
    size_choice = int(input("Choice of size of board: "))
    if size_choice == 0:
        max_row = 4
        max_column = 5        
    elif size_choice == 1:
        max_row = 5
        max_column = 6
    elif size_choice == 2:
        max_row = 6
        max_column = 7
    elif size_choice == 3:
        max_row = 7
        max_column = 8    
    elif size_choice == 4:
        max_row = 7
        max_column = 9
    elif size_choice == 5:
        max_row = 7
        max_column = 10
    elif size_choice == 6:
        max_row = int(input("Input the number of row you want: "))
        max_column = int(input("Input the number or column you want: "))

elif game == 1:
    WINDOW_LENGTH = 4   
    column = range(5,11)
    row = [4,5,6,7,7,7]
    print('size | column*row')
    for i in range(0,6):
        print(i,'  |', column[i],"*", row[i])    
        print("6   | n * n")
    print("Input the number corresponding to the size you want. ")
    size_choice = int(input("Choice of size of board: "))
    if size_choice == 0:
        max_row = 4
        max_column = 5        
    elif size_choice == 1:
        max_row = 5
        max_column = 6
    elif size_choice == 2:
        max_row = 6
        max_column = 7
    elif size_choice == 3:
        max_row = 7
        max_column = 8    
    elif size_choice == 4:
        max_row = 7
        max_column = 9
    elif size_choice == 5:
        max_row = 7
        max_column = 10
    elif size_choice == 6:
        max_row = int(input("Input the number of row you want: "))
        max_column = int(input("Input the number or column you want: "))
    
elif game == 2:
    WINDOW_LENGTH = 5      
    column = range(7,11)
    row = [6,7,7,7]
    print('size | column*row')
    for i in range(0,4):
        print(i,'  |', column[i],"*", row[i])
    print("4   | n * n")    
    print("Input the number corresponding to the size you want. ")
    size_choice = int(input("Choice of size of board: "))
    if size_choice == 0:
        max_row = 6
        max_column = 7        
    elif size_choice == 1:
        max_row = 7
        max_column = 8
    elif size_choice == 2:
        max_row = 7
        max_column = 9
    elif size_choice == 3:
        max_row = 7
        max_column = 10    
    elif size_choice == 4:
        max_row = int(input("Input the number of row you want: "))
        max_column = int(input("Input the number or column you want: "))

diff = range(0,2)
column = ["easy","difficult"]
print('Difficulty')
for i in diff:
    print(diff[i],'|', column[i])
print("Input the number corresponding to the difficulty you want. ")
difficult = int(input("Choice of difficulty: "))           
           
SQUARESIZE = 50
RADIUS = int(SQUARESIZE/2-5)

width = max_column*SQUARESIZE
height = (max_row+1)*SQUARESIZE

size = (width, height)
window = pygame.display.set_mode((width,height))

def gameboard():
    board = np.zeros((max_row,max_column))
    return board

def draw_board(board):
    for c in range(max_column):
        for r in range(max_row):
            pygame.draw.rect(window, blue, (c*SQUARESIZE, r*SQUARESIZE+SQUARESIZE, SQUARESIZE, SQUARESIZE))
            pygame.draw.circle(window, black, (int(c*SQUARESIZE+SQUARESIZE/2), int(r*SQUARESIZE+SQUARESIZE+SQUARESIZE/2)), RADIUS)
    
    for c in range(max_column):
        for r in range(max_row):
            if board[r][c] == PLAYER_PIECE:
                pygame.draw.circle(window, red, (int(c*SQUARESIZE+SQUARESIZE/2), height-int(r*SQUARESIZE+SQUARESIZE/2)), RADIUS)
            elif board[r][c] == AI_PIECE:
                pygame.draw.circle(window, yellow, (int(c*SQUARESIZE+SQUARESIZE/2), height-int(r*SQUARESIZE+SQUARESIZE/2)), RADIUS)
    pygame.display.update()

def print_board(board):# turn the board upside down
    print(np.flip(board, 0))    

def location_allowed(board, col):# find all the empty space
    return board[max_row-1][col] == 0

def find_row(board, col):# find all the row with empty space
    for r in range(max_row):
        if board[r][col] == 0:
            return r
    
def drop_piece(board, row, col, piece):# change 0 to 1 or 2
    board[row][col] = piece
    
def check_win(board, piece):# check if the winning requirment is fulfil
    if game == 0:
        # Check horizontal locations for win
        for c in range(max_column-2):
            for r in range(max_row):
                if board[r][c] == piece and board[r][c+1] == piece and board[r][c+2] == piece:
                    return True

        # Check vertical locations for win
        for c in range(max_column):
            for r in range(max_row-2):
                if board[r][c] == piece and board[r+1][c] == piece and board[r+2][c] == piece:
                    return True

        # Check right diaganol
        for c in range(max_column-2):
            for r in range(max_row-2):
                if board[r][c] == piece and board[r+1][c+1] == piece and board[r+2][c+2] == piece:
                    return True

        # Check left diaganol
        for c in range(max_column-2):
            for r in range(2, max_row):
                if board[r][c] == piece and board[r-1][c+1] == piece and board[r-2][c+2] == piece:
                    return True
           
    if game == 1:
        for c in range(max_column-3):
            for r in range(max_row):
                if board[r][c] == piece and board[r][c+1] == piece and board[r][c+2] == piece and board[r][c+3] == piece:
                    return True

        # Check vertical locations for win
        for c in range(max_column):
            for r in range(max_row-3):
                if board[r][c] == piece and board[r+1][c] == piece and board[r+2][c] == piece and board[r+3][c] == piece:
                    return True

        # Check right diaganol
        for c in range(max_column-3):
            for r in range(max_row-3):
                if board[r][c] == piece and board[r+1][c+1] == piece and board[r+2][c+2] == piece and board[r+3][c+3] == piece:
                    return True

        # Check left diaganol
        for c in range(max_column-3):
            for r in range(3, max_row):
                if board[r][c] == piece and board[r-1][c+1] == piece and board[r-2][c+2] == piece and board[r-3][c+3] == piece:
                    return True
    if game == 2:
        for c in range(max_column-4):
            for r in range(max_row):
                if board[r][c] == piece and board[r][c+1] == piece and board[r][c+2] == piece and board[r][c+3] == piece and board[r][c+4] == piece:
                    return True

        # Check vertical locations for win
        for c in range(max_column):
            for r in range(max_row-4):
                if board[r][c] == piece and board[r+1][c] == piece and board[r+2][c] == piece and board[r+3][c] == piece and board[r+4][c] == piece:
                    return True

        # Check right diaganol
        for c in range(max_column-4):
            for r in range(max_row-4):
                if board[r][c] == piece and board[r+1][c+1] == piece and board[r+2][c+2] == piece and board[r+3][c+3] == piece and board[r+4][c+4] == piece:
                    return True

        # Check left diaganol
        for c in range(max_column-4):
            for r in range(4, max_row):
                if board[r][c] == piece and board[r-1][c+1] == piece and board[r-2][c+2] == piece and board[r-3][c+3] == piece and board[r-4][c+4] == piece:
                    return True
            
def evaluate_window(window, piece):#calculate the score for different possible situation
    score = 0
    opp_piece = PLAYER_PIECE
    if piece == PLAYER_PIECE:
        opp_piece = AI_PIECE
    
    if game == 0:
        if window.count(piece) == 3:
            score += 100
        elif window.count(piece) == 2 and window.count(EMPTY) == 1:
            score += 20
        if window.count(opp_piece) == 2 and window.count(EMPTY) == 1:
            score -= 10
    
    if game == 1:
        if window.count(piece) == 4:
            score += 100
        elif window.count(piece) == 3 and window.count(EMPTY) == 1:
            score += 20
        elif window.count(piece) == 2 and window.count(EMPTY) == 2:
            score += 1
        if window.count(opp_piece) == 3 and window.count(EMPTY) == 1:
            score -= 10
           
    if game == 2:
        if window.count(piece) == 5:
            score += 200
        elif window.count(piece) == 4 and window.count(piece) == 1:
            score += 100
        elif window.count(piece) == 3 and window.count(EMPTY) == 2:
            score += 20
        elif window.count(piece) == 2 and window.count(EMPTY) == 3:
            score += 1
        if window.count(opp_piece) == 4 and window.count(EMPTY) == 1:
            score -= 100
           
    return score

def score_position(board, piece):
    score = 0
    # Score center column
    center_array = [int(i) for i in list(board[:, max_column//2])]
    center_count = center_array.count(piece)
    score += center_count * 3
    
    if game == 0:
        # Score Horizontal
        for r in range(max_row):
            row_array = [int(i) for i in list(board[r,:])]
            for c in range(max_column-2):
                window = row_array[c:c+WINDOW_LENGTH]
                score += evaluate_window(window, piece)

        # Score Vertical
        for c in range(max_column):
            col_array = [int(i) for i in list(board[:,c])]
            for r in range(max_row-2):
                window = col_array[r:r+WINDOW_LENGTH]
                score += evaluate_window(window, piece)

        # Score right diagonal
        for r in range(max_row-2):
            for c in range(max_column-2):
                window = [board[r+i][c+i] for i in range(WINDOW_LENGTH)]
                score += evaluate_window(window, piece)

        # Score left diagonal        
        for r in range(max_row-2):
            for c in range(max_column-2):
                window = [board[r+3-i][c+i] for i in range(WINDOW_LENGTH)]
                score += evaluate_window(window, piece)
             
    if game == 1:
        # Score Horizontal
        for r in range(max_row):
            row_array = [int(i) for i in list(board[r,:])]
            for c in range(max_column-3):
                window = row_array[c:c+WINDOW_LENGTH]
                score += evaluate_window(window, piece)

        # Score Vertical
        for c in range(max_column):
            col_array = [int(i) for i in list(board[:,c])]
            for r in range(max_row-3):
                window = col_array[r:r+WINDOW_LENGTH]
                score += evaluate_window(window, piece)

        # Score right diagonal
        for r in range(max_row-3):
            for c in range(max_column-3):
                window = [board[r+i][c+i] for i in range(WINDOW_LENGTH)]
                score += evaluate_window(window, piece)

        # Score left diagonal        
        for r in range(max_row-3):
            for c in range(max_column-3):
                window = [board[r+3-i][c+i] for i in range(WINDOW_LENGTH)]
                score += evaluate_window(window, piece)

    if game == 2:
        # Score Horizontal
        for r in range(max_row):
            row_array = [int(i) for i in list(board[r,:])]
            for c in range(max_column-4):
                window = row_array[c:c+WINDOW_LENGTH]
                score += evaluate_window(window, piece)

        # Score Vertical
        for c in range(max_column):
            col_array = [int(i) for i in list(board[:,c])]
            for r in range(max_row-4):
                window = col_array[r:r+WINDOW_LENGTH]
                score += evaluate_window(window, piece)

        # Score right diagonal
        for r in range(max_row-4):
            for c in range(max_column-4):
                window = [board[r+i][c+i] for i in range(WINDOW_LENGTH)]
                score += evaluate_window(window, piece)

        # Score left diagonal        
        for r in range(max_row-4):
            for c in range(max_column-4):
                window = [board[r+3-i][c+i] for i in range(WINDOW_LENGTH)]
                score += evaluate_window(window, piece)
              
    return score

def pick_best_move(board, piece):
    valid_locations = get_valid_locations(board)
    best_score = -1000000
    best_col = random.choice(valid_locations)
    for col in valid_locations:
        row = find_row(board, col)
        temp_board = board.copy()
        drop_piece(temp_board, row, col, piece)
        score = score_position(temp_board, piece)
        if score > best_score:
            best_score = score
            best_col = col
    return best_col

def is_terminal_node(board):
    return check_win(board, PLAYER_PIECE) or check_win(board, AI_PIECE) or len(get_valid_locations(board)) == 0

def minimax(board, depth, alpha, beta, maximizingPlayer):
    valid_locations = get_valid_locations(board)
    is_terminal = is_terminal_node(board)
    if depth == 0 or is_terminal:
        if is_terminal:
            if check_win(board, AI_PIECE):
                return (None, 10000000)
            elif check_win(board, PLAYER_PIECE):
                return (None, -10000000)
            else: # Game is over, no more valid moves
                return (None, 0)
        else: # Depth is zero
            return (None, score_position(board, AI_PIECE))
            
    if maximizingPlayer:
        value = -math.inf
        column = random.choice(valid_locations)
        for col in valid_locations:
            row = find_row(board, col)
            board_copy = board.copy()
            drop_piece(board_copy, row, col, AI_PIECE)
            new_score = minimax(board_copy, depth-1, alpha, beta, False)[1]
            if new_score > value:
                value = new_score
                column = col
                    
            alpha = max(alpha, value)
            if alpha >= beta:
                break
        return column, value
        
    else:
        value = math.inf
        column = random.choice(valid_locations)
        for col in valid_locations:
            row = find_row(board, col)
            board_copy = board.copy()
            drop_piece(board_copy, row, col, PLAYER_PIECE)
            new_score = minimax(board_copy, depth-1, alpha, beta, True)[1]
            if new_score < value:
                value = new_score
                column = col
                    
            beta = min(beta, value)
            if alpha >= beta:
                break
        return column, value
        
def get_valid_locations(board):
    valid_locations = []
    for col in range(max_column):
        if location_allowed(board, col):
            valid_locations.append(col)
    return valid_locations

pygame.init()
pygame.display.set_caption("Connect!")
head_font = pygame.font.SysFont(None,20)

board = gameboard()
draw_board(board)
pygame.display.update()

myfont = pygame.font.SysFont("monospace", 40)

turn = random.randint(PLAYER, AI)

gameover = False

while not gameover:
    for event in pygame.event.get():
        if event.type == pygame.QUIT:
            sys.exit()

        if event.type == pygame.MOUSEMOTION:
            pygame.draw.rect(window, black, (0,0, width, SQUARESIZE))
            posx = event.pos[0]
            if turn == PLAYER:
                pygame.draw.circle(window, red, (posx, int(SQUARESIZE/2)), RADIUS)
        
        pygame.display.update()
        
        if event.type == pygame.MOUSEBUTTONDOWN:
            pygame.draw.rect(window, black, (0,0, width, SQUARESIZE))
            if turn == PLAYER:
                posx = event.pos[0]
                col = int(math.floor(posx/SQUARESIZE))
                if location_allowed(board, col):
                    row = find_row(board, col)
                    drop_piece(board, row, col, PLAYER_PIECE)
                    if check_win(board, PLAYER_PIECE):
                        label = myfont.render("Game Over. Player 1 wins!", 1, red)
                        window.blit(label, (10,10))
                        gameover = True
                    turn += 1
                    turn = turn % 2
                    draw_board(board)

    if turn == AI and not gameover:
        if difficult == 0:
            col = pick_best_move(board, AI_PIECE)
            if location_allowed(board, col):
                row = find_row(board, col)
                drop_piece(board, row, col, AI_PIECE)
                if check_win(board, AI_PIECE):
                    label = myfont.render("Game Over. AI wins!", 1, yellow)
                    window.blit(label, (10,10))
                    gameover = True
                draw_board(board)
                turn += 1
                turn = turn % 2
                
        if difficult == 1:
            col, minimax_score = minimax(board, 3, -math.inf, math.inf, True)
            if location_allowed(board, col):
                row = find_row(board, col)
                drop_piece(board, row, col, AI_PIECE)
                if check_win(board, AI_PIECE):
                    label = myfont.render("Game Over. AI wins!", 1, yellow)
                    window.blit(label, (10,10))
                    gameover = True
                print_board(board)
                draw_board(board)
                turn += 1
                turn = turn % 2
